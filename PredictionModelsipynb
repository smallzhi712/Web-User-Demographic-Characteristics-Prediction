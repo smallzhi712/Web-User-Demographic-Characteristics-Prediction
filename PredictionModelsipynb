{
 "cells": [
  {
   "cell_type": "markdown",
   "metadata": {
    "id": "bOuWdBvhJlrX"
   },
   "source": [
    "# Library Loading"
   ]
  },
  {
   "cell_type": "code",
   "execution_count": null,
   "metadata": {
    "id": "rtZ9tpafji3w"
   },
   "outputs": [],
   "source": [
    "import pandas as pd\n",
    "import numpy as np\n",
    "from matplotlib import pyplot as plt\n",
    "from sklearn.model_selection import train_test_split, cross_val_score, GridSearchCV, RandomizedSearchCV\n",
    "from sklearn.ensemble import RandomForestClassifier, RandomForestRegressor, BaggingClassifier\n",
    "from sklearn.tree import DecisionTreeClassifier\n",
    "from sklearn.preprocessing import MinMaxScaler, StandardScaler, PowerTransformer\n",
    "from scipy.stats import randint\n",
    "import xgboost as xgb\n",
    "from sklearn.metrics import accuracy_score, confusion_matrix, precision_score, recall_score, ConfusionMatrixDisplay, mean_squared_error\n",
    "from sklearn.naive_bayes import GaussianNB\n",
    "from sklearn.neighbors import KNeighborsClassifier\n",
    "import pandas as pd\n",
    "import os\n",
    "from sklearn.datasets import make_classification\n",
    "from sklearn.feature_selection import SelectKBest, chi2\n",
    "from sklearn.feature_selection import RFECV\n",
    "from sklearn.model_selection import StratifiedKFold\n",
    "from sklearn.feature_selection import RFE\n",
    "from sklearn.neighbors import LocalOutlierFactor\n",
    "import seaborn as sns\n",
    "from sklearn.linear_model import LogisticRegression\n",
    "from sklearn import metrics\n",
    "from sklearn.model_selection import KFold\n",
    "from sklearn.neural_network import MLPClassifier\n",
    "from sklearn.dummy import DummyClassifier\n",
    "from sklearn.ensemble import AdaBoostClassifier\n",
    "from sklearn import linear_model\n",
    "from sklearn.ensemble import StackingClassifier\n",
    "from sklearn.preprocessing import LabelEncoder\n",
    "import random\n",
    "\n",
    "random.seed(0)\n",
    "np.random.seed(0)\n",
    "pd.set_option('display.max_rows', None)\n",
    "pd.set_option('display.max_columns', None)"
   ]
  },
  {
   "cell_type": "markdown",
   "metadata": {
    "id": "YD1PCa7HM1n6"
   },
   "source": [
    "# Features selection (with RF)\n",
    "Select the most informative features based on the importance given by random forest classifier."
   ]
  },
  {
   "cell_type": "markdown",
   "metadata": {
    "id": "vUn32no7hiFv"
   },
   "source": [
    "##  Gender\n"
   ]
  },
  {
   "cell_type": "code",
   "execution_count": null,
   "metadata": {
    "colab": {
     "base_uri": "https://localhost:8080/",
     "height": 287
    },
    "id": "jj8ZPBDqKIw_",
    "outputId": "76dee5d6-b6ac-46da-f5e7-316b33342794"
   },
   "outputs": [],
   "source": [
    "# Load the dataset\n",
    "df = pd.read_csv('final_data_gender.csv')\n",
    "\n",
    "# Observe the dataset\n",
    "df.head()"
   ]
  },
  {
   "cell_type": "code",
   "execution_count": null,
   "metadata": {
    "id": "WVerJJvj0XHJ"
   },
   "outputs": [],
   "source": [
    "# Turning gender into dummy: male = 1\n",
    "df['gender'] = pd.get_dummies(df['gender'])['male']"
   ]
  },
  {
   "cell_type": "code",
   "execution_count": null,
   "metadata": {
    "id": "xqcakvYgtlED"
   },
   "outputs": [],
   "source": [
    "# Select columns for X and y\n",
    "X = df.drop(['gender', 'age_group', 'age_order', 'panelist_id', 'social_status', 'social_status_order'], axis=1)\n",
    "y = df['gender']"
   ]
  },
  {
   "cell_type": "code",
   "execution_count": null,
   "metadata": {
    "id": "KQ5PlRadtlHm"
   },
   "outputs": [],
   "source": [
    "# Split train and test sets\n",
    "X_train, X_test, y_train, y_test = train_test_split(X, y, test_size=0.2, random_state = 0, shuffle = True)"
   ]
  },
  {
   "cell_type": "code",
   "execution_count": null,
   "metadata": {
    "id": "Kjzhj5hatlI6"
   },
   "outputs": [],
   "source": [
    "# Random Forest Classifier\n",
    "rf = RandomForestClassifier(\n",
    "    n_estimators=2000, \n",
    "    random_state=0, \n",
    "    criterion='gini', \n",
    "    min_samples_leaf = 20)\n",
    "\n",
    "rf.fit(X_train, y_train)"
   ]
  },
  {
   "cell_type": "code",
   "execution_count": null,
   "metadata": {
    "id": "lqmqUsBstlNt"
   },
   "outputs": [],
   "source": [
    "# Extract importance values for each feature (column of X)\n",
    "importances = rf.feature_importances_\n",
    "\n",
    "# Create a dataframe to store the values and their labels\n",
    "df2 = pd.DataFrame({'feature': X_train.columns, 'importance': importances})\n",
    "\n",
    "# Sort dataframe by descending order, showing the most important feature top\n",
    "df2 = df2.sort_values('importance', ascending = False)\n",
    "\n",
    "# Plot the importance of each feature\n",
    "df2.plot(kind='bar', x='feature', figsize = (20,8))\n",
    "plt.show()\n",
    "df2[:31]"
   ]
  },
  {
   "cell_type": "code",
   "execution_count": null,
   "metadata": {
    "id": "UmPX_TIxNjpa"
   },
   "outputs": [],
   "source": [
    "# Export the important words for gender\n",
    "df_export_gender = df[['panelist_id'] + df2['feature'][:31].tolist() + ['gender']]\n",
    "df_export_gender.head()"
   ]
  },
  {
   "cell_type": "code",
   "execution_count": null,
   "metadata": {
    "id": "KAkvGR-zFL50"
   },
   "outputs": [],
   "source": [
    "df_export_gender.to_csv('gender_selected.csv', index = False)"
   ]
  },
  {
   "cell_type": "markdown",
   "metadata": {
    "id": "V9T2_4Lfgx5T"
   },
   "source": [
    "## Age"
   ]
  },
  {
   "cell_type": "code",
   "execution_count": null,
   "metadata": {
    "id": "QcFlj3FPfkoF"
   },
   "outputs": [],
   "source": [
    "# Load the dataset\n",
    "df = pd.read_csv('final_data_age.csv')\n",
    "\n",
    "# Turning gender into dummy: male = 1\n",
    "df['gender'] = pd.get_dummies(df['gender'])['male']\n",
    "df.head()"
   ]
  },
  {
   "cell_type": "code",
   "execution_count": null,
   "metadata": {
    "id": "A4lx6R0ThEWY"
   },
   "outputs": [],
   "source": [
    "# Select columns for X and y\n",
    "X = df.drop(['age_order', 'age_group','gender', 'panelist_id', 'social_status','social_status_order'], axis=1)\n",
    "y = df['age_order']"
   ]
  },
  {
   "cell_type": "code",
   "execution_count": null,
   "metadata": {
    "id": "gfv24V0chE2q"
   },
   "outputs": [],
   "source": [
    "# Split train and test sets\n",
    "X_train, X_test, y_train, y_test = train_test_split(X, y, test_size=0.2, random_state = 0, shuffle = True)"
   ]
  },
  {
   "cell_type": "code",
   "execution_count": null,
   "metadata": {
    "id": "Ndwc_Vv0hwiE"
   },
   "outputs": [],
   "source": [
    "# Recode the y labels\n",
    "le = LabelEncoder()\n",
    "y_train = le.fit_transform(y_train) \n",
    "y_test = le.fit_transform(y_test)"
   ]
  },
  {
   "cell_type": "code",
   "execution_count": null,
   "metadata": {
    "id": "omDjZ-GuhwZT"
   },
   "outputs": [],
   "source": [
    "# Random Forest Classifier\n",
    "rf = RandomForestClassifier(\n",
    "    n_estimators=2000, \n",
    "    random_state=0, \n",
    "    criterion='gini', \n",
    "    min_samples_leaf = 20)\n",
    "rf.fit(X_train, y_train)"
   ]
  },
  {
   "cell_type": "code",
   "execution_count": null,
   "metadata": {
    "id": "OWn_QIGOh4aG"
   },
   "outputs": [],
   "source": [
    "# Extract importance values for each feature (column of X)\n",
    "importances = rf.feature_importances_\n",
    "\n",
    "# Create a dataframe to store the values and their labels\n",
    "df2 = pd.DataFrame({'feature': X_train.columns, 'importance': importances})\n",
    "\n",
    "# Sort dataframe by descending order, showing the most important feature top\n",
    "df2 = df2.sort_values('importance', ascending = False)\n",
    "\n",
    "# Plot the importance of each feature\n",
    "df2.plot(kind='bar', x='feature', figsize = (20,8))\n",
    "plt.show()\n",
    "df2[:31]"
   ]
  },
  {
   "cell_type": "code",
   "execution_count": null,
   "metadata": {
    "id": "DRi2FcHTh8uq"
   },
   "outputs": [],
   "source": [
    "# Export the important words for age\n",
    "df_export_age = df[['panelist_id'] + df2['feature'][:31].tolist() + ['age_order']]\n",
    "df_export_age.head()"
   ]
  },
  {
   "cell_type": "code",
   "execution_count": null,
   "metadata": {
    "id": "5JLrBx9Oh9Fs"
   },
   "outputs": [],
   "source": [
    "df_export_age.to_csv('age_selected.csv',index=False)"
   ]
  },
  {
   "cell_type": "markdown",
   "metadata": {
    "id": "KaG_KXT5bJ_f"
   },
   "source": [
    "# Load the data"
   ]
  },
  {
   "cell_type": "markdown",
   "metadata": {
    "id": "ysONMoAagNEv"
   },
   "source": [
    "## Gender"
   ]
  },
  {
   "cell_type": "markdown",
   "metadata": {
    "id": "ST4mF9vBV5aY"
   },
   "source": [
    "### Whole dataset"
   ]
  },
  {
   "cell_type": "code",
   "execution_count": null,
   "metadata": {
    "id": "9k5Yh51VbRRN"
   },
   "outputs": [],
   "source": [
    "# Load the dataset\n",
    "df_gender_whole = pd.read_csv('final_data_gender.csv')"
   ]
  },
  {
   "cell_type": "markdown",
   "metadata": {
    "id": "8Nlrx4IBkSke"
   },
   "source": []
  },
  {
   "cell_type": "code",
   "execution_count": null,
   "metadata": {
    "id": "90GSOnD62bVG"
   },
   "outputs": [],
   "source": [
    "# Turning gender into dummy: male = 1\n",
    "df_gender_whole['gender'] = pd.get_dummies(df_gender_whole['gender'])['male']"
   ]
  },
  {
   "cell_type": "code",
   "execution_count": null,
   "metadata": {
    "id": "qMKfu2MZbZf0"
   },
   "outputs": [],
   "source": [
    "# Select columns for X and y\n",
    "X_gender_whole = df_gender_whole.drop(['gender', 'age_group', 'age_order', 'panelist_id', 'social_status', 'social_status_order'], axis=1)\n",
    "y_gender_whole = df_gender_whole['gender']"
   ]
  },
  {
   "cell_type": "markdown",
   "metadata": {
    "id": "vlJ1dTYUdSW_"
   },
   "source": [
    "### Selected features"
   ]
  },
  {
   "cell_type": "code",
   "execution_count": null,
   "metadata": {
    "colab": {
     "base_uri": "https://localhost:8080/",
     "height": 270
    },
    "id": "6kus7lwDcxKP",
    "outputId": "7287eee3-6ec9-4e05-be2b-caf6ab3e0fb5"
   },
   "outputs": [],
   "source": [
    "# Load the dataset\n",
    "df_gender_selected = pd.read_csv('gender_selected.csv')\n",
    "df_gender_selected.head()"
   ]
  },
  {
   "cell_type": "code",
   "execution_count": null,
   "metadata": {
    "colab": {
     "base_uri": "https://localhost:8080/"
    },
    "id": "BdizRhXcbY0F",
    "outputId": "a6a52429-d843-48b3-cd51-9913f1b451ee"
   },
   "outputs": [],
   "source": [
    "# Select columns for X and y\n",
    "X_gender_selected = df_gender_selected.drop(['gender', 'panelist_id'], axis=1)\n",
    "y_gender_selected = df_gender_selected['gender']\n",
    "X_gender_selected.head()\n",
    "y_gender_selected.head()"
   ]
  },
  {
   "cell_type": "markdown",
   "metadata": {
    "id": "ZgKEygwmgUiP"
   },
   "source": [
    "## Age"
   ]
  },
  {
   "cell_type": "markdown",
   "metadata": {
    "id": "qM8mrPJXgbSw"
   },
   "source": [
    "### Whole dataset"
   ]
  },
  {
   "cell_type": "code",
   "execution_count": null,
   "metadata": {
    "id": "eTT2DEOggVxR"
   },
   "outputs": [],
   "source": [
    "# Load the dataset\n",
    "df_age_whole = pd.read_csv('final_data_age.csv')"
   ]
  },
  {
   "cell_type": "code",
   "execution_count": null,
   "metadata": {
    "id": "Eo96uo__22Bx"
   },
   "outputs": [],
   "source": [
    "# Turning gender into dummy: male = 1\n",
    "df_age_whole['gender'] = pd.get_dummies(df_age_whole['gender'])['male']"
   ]
  },
  {
   "cell_type": "code",
   "execution_count": null,
   "metadata": {
    "id": "_-kFs0WYjiMj"
   },
   "outputs": [],
   "source": [
    "# Select columns for X and y\n",
    "X_age_whole = df_age_whole.drop(['gender', 'age_group', 'age_order', 'panelist_id', 'social_status', 'social_status_order'], axis=1)\n",
    "y_age_whole = df_age_whole['age_order']"
   ]
  },
  {
   "cell_type": "markdown",
   "metadata": {
    "id": "NJP1halGgdGC"
   },
   "source": [
    "### Selected features"
   ]
  },
  {
   "cell_type": "code",
   "execution_count": null,
   "metadata": {
    "id": "bqSt_6TfggAc"
   },
   "outputs": [],
   "source": [
    "# Load the dataset\n",
    "df_age_selected = pd.read_csv('age_selected.csv')"
   ]
  },
  {
   "cell_type": "code",
   "execution_count": null,
   "metadata": {
    "id": "s7n7VkMdkTh6"
   },
   "outputs": [],
   "source": [
    "# Select columns for X and y\n",
    "X_age_selected = df_age_selected.drop(['age_order', 'panelist_id'], axis=1) #age_group\n",
    "y_age_selected = df_age_selected['age_order']"
   ]
  },
  {
   "cell_type": "markdown",
   "metadata": {
    "id": "AIi8OUO_aYxt"
   },
   "source": [
    "# Model Functions"
   ]
  },
  {
   "cell_type": "markdown",
   "metadata": {
    "id": "PyLuXNu4i7ZZ"
   },
   "source": [
    "## Random Forest"
   ]
  },
  {
   "cell_type": "code",
   "execution_count": null,
   "metadata": {
    "id": "si5zp-3NUDO8"
   },
   "outputs": [],
   "source": [
    "def RF(X_train, X_test, y_train, y_test):\n",
    "  \n",
    "    # Create distributions for randomized search\n",
    "    param_xgb = {'min_child_weight': [1, 5, 10],\n",
    "                 'gamma': [0.5, 1, 1.5],\n",
    "                 'subsample': [0.3, 0.6, 0.8, 1.0],\n",
    "                 'colsample_bytree': [0.3, 0.6, 0.8, 1.0],\n",
    "                 'max_depth': [5],\n",
    "                 'learning_rate': [0.03, 0.05, 0.1]}\n",
    "\n",
    "    # Randomized search with cross validation\n",
    "    randSearch_xgb = RandomizedSearchCV(\n",
    "        xgb.XGBClassifier(objective='binary:logistic',\n",
    "                          n_estimators=100,\n",
    "                          alpha = 10,\n",
    "                          random_state = 0),\n",
    "        param_xgb,\n",
    "        n_iter=5,\n",
    "        cv=5,\n",
    "        random_state = 0)\n",
    "\n",
    "    # Fit the random search object\n",
    "    randSearch_xgb.fit(X_train, y_train)\n",
    "\n",
    "    # Best estimators\n",
    "    best_xgb_clf = randSearch_xgb.best_estimator_\n",
    "    # print(\"Best CV accuracy:\", round((randSearch_xgb.best_score_ * 100), 4), '%')\n",
    "    # print(\"Best hyperparameters:\", randSearch_xgb.best_params_)\n",
    "\n",
    "    # Predict on the test set using the best performing parameters\n",
    "    y_pred = best_xgb_clf.predict(X_test)\n",
    "\n",
    "    # Accuracy score\n",
    "    best_xgb_clf_score = accuracy_score(y_test, y_pred)\n",
    "    print(\"Test Accuracy:\", round((best_xgb_clf_score * 100), 4), '%')\n",
    "\n",
    "    # Confusion matrix\n",
    "    print(confusion_matrix(y_test, y_pred))\n",
    "\n",
    "    # Classification report\n",
    "    print(metrics.classification_report(y_test, y_pred))\n",
    "  \n",
    "\n",
    "    return best_xgb_clf"
   ]
  },
  {
   "cell_type": "markdown",
   "metadata": {
    "id": "fW3P_7Xei_jr"
   },
   "source": [
    "## Naive Bayes "
   ]
  },
  {
   "cell_type": "code",
   "execution_count": null,
   "metadata": {
    "id": "ZTlC0rHWjlLA"
   },
   "outputs": [],
   "source": [
    "def NB(X_train, X_test, y_train, y_test):\n",
    "\n",
    "    # Fit the naive bayes model\n",
    "    gnb = GaussianNB()\n",
    "    gnb.fit(X_train, y_train)\n",
    "\n",
    "    # Predict on the test set\n",
    "    y_pred = gnb.predict(X_test)\n",
    "\n",
    "    # Accuracy score\n",
    "    test_acc = accuracy_score(y_test, y_pred)\n",
    "    print(\"Test Accuracy:\", round((test_acc * 100), 4), '%')\n",
    "\n",
    "    # Confusion matrix\n",
    "    print(confusion_matrix(y_test, y_pred))\n",
    "\n",
    "    # Classification report\n",
    "    print(metrics.classification_report(y_test, y_pred))\n",
    "  \n",
    "\n",
    "    return gnb"
   ]
  },
  {
   "cell_type": "markdown",
   "metadata": {
    "id": "a4QqiWoNlg34"
   },
   "source": [
    "## KNN"
   ]
  },
  {
   "cell_type": "code",
   "execution_count": null,
   "metadata": {
    "id": "zE2i5E4SmIoZ"
   },
   "outputs": [],
   "source": [
    "def KNN(X_train, X_test, y_train, y_test):\n",
    "  \n",
    "    # Create a grid for grid search\n",
    "    param_grid = {'n_neighbors': range(1,15)}\n",
    "\n",
    "    # Detect and remove outliers using LOF\n",
    "    lof = LocalOutlierFactor(n_neighbors=10, contamination=0.1)\n",
    "    outlier_mask = lof.fit_predict(X_train) != -1\n",
    "    X_train_2 = X_train[outlier_mask]\n",
    "    y_train_2 = y_train[outlier_mask]\n",
    "\n",
    "    # Create a KNN classifier\n",
    "    knn_clf = KNeighborsClassifier()\n",
    "\n",
    "    # Use GridSearchCV to find the best value for k\n",
    "    grid_search = GridSearchCV(knn_clf, param_grid, cv=5)\n",
    "    grid_search.fit(X_train_2, y_train_2)\n",
    "\n",
    "    # Best estimators\n",
    "    best_knn = grid_search.best_estimator_\n",
    "    # print(\"Best value for k:\", grid_search.best_params_['n_neighbors'])\n",
    "    # print(\"Best CV accuracy:\", round((grid_search.best_score_ * 100), 4), '%')\n",
    "\n",
    "    # Predict on the test set\n",
    "    y_pred = best_knn.predict(X_test)\n",
    "\n",
    "    # Accuracy score\n",
    "    accuracy = accuracy_score(y_test, y_pred)\n",
    "    print(\"Test Accuracy:\", round((accuracy * 100), 4), '%')\n",
    "\n",
    "    # Confusion matrix\n",
    "    print(confusion_matrix(y_test, y_pred))\n",
    "\n",
    "    # Classification report\n",
    "    print(metrics.classification_report(y_test, y_pred))\n",
    "\n",
    "\n",
    "    return best_knn"
   ]
  },
  {
   "cell_type": "markdown",
   "metadata": {
    "id": "i6rACLiPnvbk"
   },
   "source": [
    "## GLM"
   ]
  },
  {
   "cell_type": "code",
   "execution_count": null,
   "metadata": {
    "id": "o4uetd6zppRD"
   },
   "outputs": [],
   "source": [
    "def GLM(X_train, X_test, y_train, y_test):\n",
    "\n",
    "    # Fit the logistic regression model\n",
    "    logreg = LogisticRegression()\n",
    "    logreg.fit(X_train, y_train)\n",
    "\n",
    "    # Predict on the test set\n",
    "    y_pred = logreg.predict(X_test)\n",
    "\n",
    "    # Accuracy score\n",
    "    accuracy = accuracy_score(y_test, y_pred)\n",
    "    print('Test Accuracy:', round((accuracy * 100), 4), '%')\n",
    "\n",
    "    # Confusion matrix\n",
    "    print(confusion_matrix(y_test, y_pred))\n",
    "\n",
    "    # Classification report\n",
    "    print(metrics.classification_report(y_test, y_pred))\n",
    "\n",
    "\n",
    "    return logreg"
   ]
  },
  {
   "cell_type": "markdown",
   "metadata": {
    "id": "B5E6hBDrq-43"
   },
   "source": [
    "## Neural Network"
   ]
  },
  {
   "cell_type": "code",
   "execution_count": null,
   "metadata": {
    "id": "zQthn5z2s9jl"
   },
   "outputs": [],
   "source": [
    "def nn(X_train, X_test, y_train, y_test):\n",
    "\n",
    "    accuracy_agg = []\n",
    "\n",
    "\n",
    "    param_nnet = {\"hidden_layer_sizes\": [(n, n, n, n) for n in range(2, 6)]}\n",
    "\n",
    "    randSearch_nnet = GridSearchCV(MLPClassifier(activation = 'relu', solver = 'sgd', random_state = 1),\n",
    "                                   param_grid = param_nnet,\n",
    "                                   cv = 5)\n",
    "\n",
    "    randSearch_nnet.fit(X_train, y_train)\n",
    "\n",
    "    # Best estimators\n",
    "    best_nnet = randSearch_nnet.best_estimator_\n",
    "    # print(\"Best CV accuracy:\", round((randSearch_nnet.best_score_ * 100), 4), '%')\n",
    "    # print(\"Best hyperparameters:\", randSearch_nnet.best_params_)\n",
    "\n",
    "    # Predict on the test set\n",
    "    y_pred = best_nnet.predict(X_test)\n",
    "\n",
    "    # Accuracy score\n",
    "    best_nnet_score = accuracy_score(y_test, y_pred)\n",
    "    print(\"Test Accuracy:\", round((best_nnet_score * 100), 4), '%')\n",
    "\n",
    "    # Confusion matrix\n",
    "    print(confusion_matrix(y_test, y_pred))\n",
    "\n",
    "    # Classification report\n",
    "    print(metrics.classification_report(y_test, y_pred))\n",
    "\n",
    "    return best_nnet"
   ]
  },
  {
   "cell_type": "markdown",
   "metadata": {
    "id": "gs1GtyBw0p4p"
   },
   "source": [
    "## Stacking"
   ]
  },
  {
   "cell_type": "code",
   "execution_count": null,
   "metadata": {
    "id": "EkE_-VJCwT2K"
   },
   "outputs": [],
   "source": [
    "def stack(X_train, X_test, y_train, y_test, models):\n",
    "\n",
    "    lr = LogisticRegression(random_state=0)\n",
    "\n",
    "    sclf = StackingClassifier(estimators = models,\n",
    "                              final_estimator = lr,\n",
    "                              cv = 5)\n",
    "  \n",
    "    sclf.fit(X_train, y_train)\n",
    "    \n",
    "    # Predict on the test set\n",
    "    y_pred = sclf.predict(X_test)\n",
    "    \n",
    "    # Accuracy score\n",
    "    sclf_score = accuracy_score(y_test,y_pred)\n",
    "    print(\"Test Accuracy:\", round((sclf_score * 100), 4), '%')\n",
    "\n",
    "    # Confusion matrix\n",
    "    print(confusion_matrix(y_test, y_pred))\n",
    "    \n",
    "    # Classification report\n",
    "    print(metrics.classification_report(y_test, y_pred))"
   ]
  },
  {
   "cell_type": "markdown",
   "metadata": {
    "id": "kqXe0-aoW92h"
   },
   "source": [
    "# Gender Prediction"
   ]
  },
  {
   "cell_type": "markdown",
   "metadata": {
    "id": "ME3gc-bSXBaK"
   },
   "source": [
    "## [Whole dataset]"
   ]
  },
  {
   "cell_type": "markdown",
   "metadata": {
    "id": "mXButSyHZa9c"
   },
   "source": [
    "### Train-test split"
   ]
  },
  {
   "cell_type": "code",
   "execution_count": null,
   "metadata": {
    "id": "cpOcn_U4XFVM"
   },
   "outputs": [],
   "source": [
    "X_train, X_test, y_train, y_test = train_test_split(X_gender_whole, y_gender_whole, test_size=0.2, random_state = 0, shuffle = True)"
   ]
  },
  {
   "cell_type": "markdown",
   "metadata": {
    "id": "HhX18dJ9ZdvW"
   },
   "source": [
    "### Normalisation"
   ]
  },
  {
   "cell_type": "code",
   "execution_count": null,
   "metadata": {
    "id": "M6eY5-A7ZYvg"
   },
   "outputs": [],
   "source": [
    "scaler = StandardScaler()\n",
    "X_train = scaler.fit_transform(X_train)\n",
    "X_test = scaler.transform(X_test)"
   ]
  },
  {
   "cell_type": "markdown",
   "metadata": {
    "id": "oLhMOJH5Zkzb"
   },
   "source": [
    "### Models"
   ]
  },
  {
   "cell_type": "code",
   "execution_count": null,
   "metadata": {
    "colab": {
     "base_uri": "https://localhost:8080/",
     "height": 169
    },
    "id": "W43WYeJ-ZkOv",
    "outputId": "906aa2af-06cb-413f-e27d-9580efd9253f"
   },
   "outputs": [],
   "source": [
    "%%time\n",
    "best_xgb_clf = RF(X_train, X_test, y_train, y_test)"
   ]
  },
  {
   "cell_type": "code",
   "execution_count": null,
   "metadata": {
    "colab": {
     "base_uri": "https://localhost:8080/"
    },
    "id": "rIAPZ39JaSMt",
    "outputId": "b036552d-9789-4617-a260-af4d6fefaf21"
   },
   "outputs": [],
   "source": [
    "%%time\n",
    "gnb = NB(X_train, X_test, y_train, y_test)"
   ]
  },
  {
   "cell_type": "code",
   "execution_count": null,
   "metadata": {
    "colab": {
     "base_uri": "https://localhost:8080/",
     "height": 371
    },
    "id": "6493wv9jaXJU",
    "outputId": "6a974290-c3af-4b00-b275-171793d33c24"
   },
   "outputs": [],
   "source": [
    "%%time\n",
    "best_knn = KNN(X_train, X_test, y_train, y_test)"
   ]
  },
  {
   "cell_type": "code",
   "execution_count": null,
   "metadata": {
    "id": "-FdtbbQkawzv"
   },
   "outputs": [],
   "source": [
    "%%time\n",
    "logreg = GLM(X_train, X_test, y_train, y_test)"
   ]
  },
  {
   "cell_type": "code",
   "execution_count": null,
   "metadata": {
    "id": "UeCgMvSQa6Ub"
   },
   "outputs": [],
   "source": [
    "%%time\n",
    "best_nnet = nn(X_train, X_test, y_train, y_test)"
   ]
  },
  {
   "cell_type": "code",
   "execution_count": null,
   "metadata": {
    "id": "1gcXXIpKbISg"
   },
   "outputs": [],
   "source": [
    "%%time\n",
    "models = [('xgb', best_xgb_clf),\n",
    "          ('gnb', gnb),\n",
    "          ('knn', best_knn),\n",
    "          ('lr', logreg),\n",
    "          ('nn', best_nnet)]\n",
    "\n",
    "stack(X_train, X_test, y_train, y_test, models)"
   ]
  },
  {
   "cell_type": "markdown",
   "metadata": {
    "id": "rTmHi7ahctK6"
   },
   "source": [
    "## [Selected features]"
   ]
  },
  {
   "cell_type": "markdown",
   "metadata": {
    "id": "h8FLXtIvcL81"
   },
   "source": [
    "### Train-test split"
   ]
  },
  {
   "cell_type": "code",
   "execution_count": null,
   "metadata": {
    "id": "BDRRmO7SiN_a"
   },
   "outputs": [],
   "source": [
    "X_train, X_test, y_train, y_test = train_test_split(X_gender_selected, y_gender_selected, test_size=0.2, random_state = 0, shuffle = True)"
   ]
  },
  {
   "cell_type": "markdown",
   "metadata": {
    "id": "8H0fIDXacOwL"
   },
   "source": [
    "### Normalisation"
   ]
  },
  {
   "cell_type": "code",
   "execution_count": null,
   "metadata": {
    "id": "de6xsX37iGwD"
   },
   "outputs": [],
   "source": [
    "scaler = StandardScaler()\n",
    "X_train = scaler.fit_transform(X_train)\n",
    "X_test = scaler.transform(X_test)"
   ]
  },
  {
   "cell_type": "markdown",
   "metadata": {
    "id": "XD5AO85NqEQf"
   },
   "source": [
    "### Models"
   ]
  },
  {
   "cell_type": "code",
   "execution_count": null,
   "metadata": {
    "colab": {
     "base_uri": "https://localhost:8080/"
    },
    "id": "eACSSpwVqEQf",
    "outputId": "25be49ed-81f2-4597-8503-5f882c7cb46c"
   },
   "outputs": [],
   "source": [
    "best_xgb_clf = RF(X_train, X_test, y_train, y_test)"
   ]
  },
  {
   "cell_type": "code",
   "execution_count": null,
   "metadata": {
    "colab": {
     "base_uri": "https://localhost:8080/"
    },
    "id": "AZBM91vpqEQg",
    "outputId": "e8cfe6d4-5e8b-4098-dd58-42712269a446"
   },
   "outputs": [],
   "source": [
    "gnb = NB(X_train, X_test, y_train, y_test)"
   ]
  },
  {
   "cell_type": "code",
   "execution_count": null,
   "metadata": {
    "colab": {
     "base_uri": "https://localhost:8080/"
    },
    "id": "j9Es-jUYqEQg",
    "outputId": "1446c5da-dd8f-40ab-fb10-488bc6a5579c"
   },
   "outputs": [],
   "source": [
    "best_knn = KNN(X_train, X_test, y_train, y_test)"
   ]
  },
  {
   "cell_type": "code",
   "execution_count": null,
   "metadata": {
    "colab": {
     "base_uri": "https://localhost:8080/"
    },
    "id": "6Guuan6GqEQg",
    "outputId": "6b93a1c4-99ef-4a12-f9c9-8a26decea423"
   },
   "outputs": [],
   "source": [
    "logreg = GLM(X_train, X_test, y_train, y_test)"
   ]
  },
  {
   "cell_type": "code",
   "execution_count": null,
   "metadata": {
    "colab": {
     "base_uri": "https://localhost:8080/"
    },
    "id": "NGxh9nQAqEQg",
    "outputId": "b791c024-a592-4afa-ae92-c9149cfd39d7"
   },
   "outputs": [],
   "source": [
    "best_nnet = nn(X_train, X_test, y_train, y_test)"
   ]
  },
  {
   "cell_type": "code",
   "execution_count": null,
   "metadata": {
    "colab": {
     "base_uri": "https://localhost:8080/"
    },
    "id": "ic2o6miAqEQg",
    "outputId": "aa452686-445c-43cc-b4b3-bbb42a683d23"
   },
   "outputs": [],
   "source": [
    "models = [('xgb', best_xgb_clf),\n",
    "          ('gnb', gnb),\n",
    "          ('knn', best_knn),\n",
    "          ('lr', logreg),\n",
    "          ('nn', best_nnet)]\n",
    "\n",
    "stack(X_train, X_test, y_train, y_test, models)"
   ]
  },
  {
   "cell_type": "markdown",
   "metadata": {
    "id": "KnkNIG0ciKMq"
   },
   "source": [
    "# Age Prediction"
   ]
  },
  {
   "cell_type": "markdown",
   "metadata": {
    "id": "M5g0dZhliMrR"
   },
   "source": [
    "## [Whole dataset]"
   ]
  },
  {
   "cell_type": "markdown",
   "metadata": {
    "id": "s-VidrMGiTE1"
   },
   "source": [
    "### Train-test split"
   ]
  },
  {
   "cell_type": "code",
   "execution_count": null,
   "metadata": {
    "id": "e4werbTAiSpR"
   },
   "outputs": [],
   "source": [
    "X_train, X_test, y_train, y_test = train_test_split(X_age_whole, y_age_whole, test_size=0.2, random_state = 0, shuffle = True)"
   ]
  },
  {
   "cell_type": "markdown",
   "metadata": {
    "id": "hwlkvJaPkvaS"
   },
   "source": [
    "### Normalisation"
   ]
  },
  {
   "cell_type": "code",
   "execution_count": null,
   "metadata": {
    "id": "tnYKNHkDkr8s"
   },
   "outputs": [],
   "source": [
    "scaler = StandardScaler()\n",
    "X_train = scaler.fit_transform(X_train)\n",
    "X_test = scaler.transform(X_test)"
   ]
  },
  {
   "cell_type": "code",
   "execution_count": null,
   "metadata": {
    "id": "27pVgnV_iQXc"
   },
   "outputs": [],
   "source": [
    "le = LabelEncoder()\n",
    "y_train = le.fit_transform(y_train) \n",
    "y_test = le.fit_transform(y_test)"
   ]
  },
  {
   "cell_type": "markdown",
   "metadata": {
    "id": "MqRRypulqHKZ"
   },
   "source": [
    "### Models"
   ]
  },
  {
   "cell_type": "code",
   "execution_count": null,
   "metadata": {
    "colab": {
     "base_uri": "https://localhost:8080/"
    },
    "id": "FnL_f9qrqHKa",
    "outputId": "b66a6d26-edc7-4a52-c01d-4e7fba0401f2"
   },
   "outputs": [],
   "source": [
    "best_xgb_clf = RF(X_train, X_test, y_train, y_test)"
   ]
  },
  {
   "cell_type": "code",
   "execution_count": null,
   "metadata": {
    "colab": {
     "base_uri": "https://localhost:8080/"
    },
    "id": "5LqdbJiSqHKa",
    "outputId": "199e40ae-35bf-4520-8e47-8624a5f67e11"
   },
   "outputs": [],
   "source": [
    "gnb = NB(X_train, X_test, y_train, y_test)"
   ]
  },
  {
   "cell_type": "code",
   "execution_count": null,
   "metadata": {
    "colab": {
     "base_uri": "https://localhost:8080/"
    },
    "id": "MrynPiH_qHKa",
    "outputId": "e85734ff-8194-4d3f-cc92-937d56c49ea0"
   },
   "outputs": [],
   "source": [
    "best_knn = KNN(X_train, X_test, y_train, y_test)"
   ]
  },
  {
   "cell_type": "code",
   "execution_count": null,
   "metadata": {
    "colab": {
     "base_uri": "https://localhost:8080/"
    },
    "id": "KalVzeRLqHKa",
    "outputId": "127d9d42-3486-4aa2-cda3-850bd5ff3126"
   },
   "outputs": [],
   "source": [
    "logreg = GLM(X_train, X_test, y_train, y_test)"
   ]
  },
  {
   "cell_type": "code",
   "execution_count": null,
   "metadata": {
    "colab": {
     "base_uri": "https://localhost:8080/"
    },
    "id": "b_9nHTJtqHKa",
    "outputId": "b24ed90c-0ea5-428b-9005-e1830ac122cb"
   },
   "outputs": [],
   "source": [
    "best_nnet = nn(X_train, X_test, y_train, y_test)"
   ]
  },
  {
   "cell_type": "code",
   "execution_count": null,
   "metadata": {
    "colab": {
     "base_uri": "https://localhost:8080/"
    },
    "id": "RTRggyWsqHKa",
    "outputId": "75ff276a-62c0-47b2-9e2d-cff1c3704cc8"
   },
   "outputs": [],
   "source": [
    "models = [('xgb', best_xgb_clf),\n",
    "          ('gnb', gnb),\n",
    "          ('knn', best_knn),\n",
    "          ('lr', logreg),\n",
    "          ('nn', best_nnet)]\n",
    "\n",
    "stack(X_train, X_test, y_train, y_test, models)"
   ]
  },
  {
   "cell_type": "markdown",
   "metadata": {
    "id": "aPg_zCTzlUdB"
   },
   "source": [
    "## [Selected features]"
   ]
  },
  {
   "cell_type": "markdown",
   "metadata": {
    "id": "czYkjlmDlUdC"
   },
   "source": [
    "### Train-test split"
   ]
  },
  {
   "cell_type": "code",
   "execution_count": null,
   "metadata": {
    "id": "SZgcM8krlUdC"
   },
   "outputs": [],
   "source": [
    "X_train, X_test, y_train, y_test = train_test_split(X_age_selected, y_age_selected, test_size=0.2, random_state = 0, shuffle = True)"
   ]
  },
  {
   "cell_type": "markdown",
   "metadata": {
    "id": "1QerL2EelUdC"
   },
   "source": [
    "### Normalisation"
   ]
  },
  {
   "cell_type": "code",
   "execution_count": null,
   "metadata": {
    "id": "HTVD5-VylUdC"
   },
   "outputs": [],
   "source": [
    "scaler = StandardScaler()\n",
    "X_train = scaler.fit_transform(X_train)\n",
    "X_test = scaler.transform(X_test)"
   ]
  },
  {
   "cell_type": "code",
   "execution_count": null,
   "metadata": {
    "id": "h1a7jD6_lUdD"
   },
   "outputs": [],
   "source": [
    "le = LabelEncoder()\n",
    "y_train = le.fit_transform(y_train) \n",
    "y_test = le.fit_transform(y_test)"
   ]
  },
  {
   "cell_type": "markdown",
   "metadata": {
    "id": "NBF7kDh_qJXK"
   },
   "source": [
    "### Models"
   ]
  },
  {
   "cell_type": "code",
   "execution_count": null,
   "metadata": {
    "colab": {
     "base_uri": "https://localhost:8080/"
    },
    "id": "E7LYTDP_qJXK",
    "outputId": "0fb5992f-6919-45e4-8984-799939b9b65e"
   },
   "outputs": [],
   "source": [
    "best_xgb_clf = RF(X_train, X_test, y_train, y_test)"
   ]
  },
  {
   "cell_type": "code",
   "execution_count": null,
   "metadata": {
    "colab": {
     "base_uri": "https://localhost:8080/"
    },
    "id": "a9BSEMH_qJXK",
    "outputId": "692f3712-b773-44ee-85de-051a8c335743"
   },
   "outputs": [],
   "source": [
    "gnb = NB(X_train, X_test, y_train, y_test)"
   ]
  },
  {
   "cell_type": "code",
   "execution_count": null,
   "metadata": {
    "colab": {
     "base_uri": "https://localhost:8080/"
    },
    "id": "mdhFpakWqJXK",
    "outputId": "bbed7b4d-bc8f-42e0-95b7-fb08ff015bf4"
   },
   "outputs": [],
   "source": [
    "best_knn = KNN(X_train, X_test, y_train, y_test)"
   ]
  },
  {
   "cell_type": "code",
   "execution_count": null,
   "metadata": {
    "colab": {
     "base_uri": "https://localhost:8080/"
    },
    "id": "hMhZ9xDCqJXK",
    "outputId": "4727b932-1090-4c45-e654-9dc25691ddf8"
   },
   "outputs": [],
   "source": [
    "logreg = GLM(X_train, X_test, y_train, y_test)"
   ]
  },
  {
   "cell_type": "code",
   "execution_count": null,
   "metadata": {
    "colab": {
     "base_uri": "https://localhost:8080/"
    },
    "id": "q-D0TqflqJXK",
    "outputId": "63056826-64ae-4d15-a4d0-107ce064d957"
   },
   "outputs": [],
   "source": [
    "best_nnet = nn(X_train, X_test, y_train, y_test)"
   ]
  },
  {
   "cell_type": "code",
   "execution_count": null,
   "metadata": {
    "colab": {
     "base_uri": "https://localhost:8080/"
    },
    "id": "tW-0wCFSqJXK",
    "outputId": "39e23ec6-1f3a-4469-b16d-1b2974a2ac4d"
   },
   "outputs": [],
   "source": [
    "models = [('xgb', best_xgb_clf),\n",
    "          ('gnb', gnb),\n",
    "          ('knn', best_knn),\n",
    "          ('lr', logreg),\n",
    "          ('nn', best_nnet)]\n",
    "\n",
    "stack(X_train, X_test, y_train, y_test, models)"
   ]
  }
 ],
 "metadata": {
  "colab": {
   "collapsed_sections": [
    "QBnU93zeJrlG",
    "bOuWdBvhJlrX",
    "vUn32no7hiFv",
    "V9T2_4Lfgx5T"
   ],
   "machine_shape": "hm",
   "provenance": [],
   "toc_visible": true
  },
  "gpuClass": "standard",
  "kernelspec": {
   "display_name": "Python 3 (ipykernel)",
   "language": "python",
   "name": "python3"
  },
  "language_info": {
   "codemirror_mode": {
    "name": "ipython",
    "version": 3
   },
   "file_extension": ".py",
   "mimetype": "text/x-python",
   "name": "python",
   "nbconvert_exporter": "python",
   "pygments_lexer": "ipython3",
   "version": "3.9.12"
  }
 },
 "nbformat": 4,
 "nbformat_minor": 1
}
